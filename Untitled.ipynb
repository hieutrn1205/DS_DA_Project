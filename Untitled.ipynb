{
 "cells": [
  {
   "cell_type": "code",
   "execution_count": 1,
   "id": "9fcdbe6c",
   "metadata": {},
   "outputs": [],
   "source": [
    "#IMPORT ALL THE LIBARIES THAT WILL BE IN NEED\n",
    "\n",
    "import pandas as pd\n",
    "import numpy as np\n",
    "import seaborn as sns\n",
    "import matplotlib.pyplot as plt\n",
    "from sklearn.model_selection import GridSearchCV\n",
    "from sklearn import metrics\n",
    "from sklearn.linear_model import LogisticRegression, LinearRegression\n",
    "from sklearn import tree\n",
    "from sklearn.tree import DecisionTreeClassifier\n",
    "from sklearn.ensemble import RandomForestRegressor, RandomForestClassifier\n",
    "import scipy.stats as stats\n",
    "from matplotlib.patches import ConnectionPatch\n",
    "\n",
    "sns.set()\n",
    "%matplotlib inline"
   ]
  },
  {
   "cell_type": "code",
   "execution_count": 2,
   "id": "d833fb4a",
   "metadata": {},
   "outputs": [
    {
     "name": "stderr",
     "output_type": "stream",
     "text": [
      "C:\\Users\\hieut\\AppData\\Local\\Temp\\ipykernel_55540\\2330522680.py:1: DtypeWarning: Columns (40) have mixed types. Specify dtype option on import or set low_memory=False.\n",
      "  test = pd.read_csv(\"data/TestingData.csv\")\n",
      "C:\\Users\\hieut\\AppData\\Local\\Temp\\ipykernel_55540\\2330522680.py:2: DtypeWarning: Columns (6) have mixed types. Specify dtype option on import or set low_memory=False.\n",
      "  train = pd.read_csv(\"data/TrainingData.csv\")\n"
     ]
    }
   ],
   "source": [
    "test = pd.read_csv(\"data/TestingData.csv\")\n",
    "train = pd.read_csv(\"data/TrainingData.csv\")"
   ]
  },
  {
   "cell_type": "code",
   "execution_count": 3,
   "id": "89d922b2",
   "metadata": {},
   "outputs": [],
   "source": [
    "#FILTER OUT THE COLUMNS WITH NULL VALUES TO BE DROPPED\n",
    "\n",
    "cols_drops = [\"Carotenoid\", 'Disaccharides', 'Flouride', 'Glycerol', 'Inulin', 'Monosaccharides', 'Neotame', 'Nitrogen', \n",
    "              'Phenylalanine + Tyrosine', 'Polydextrose', 'Histidine', 'Isoleucine', 'Leucine', 'Lysine', 'Methionine + Cystine',\n",
    "              'Monounsaturated Fats', 'Polyunsaturated Fat', 'Cholesterol', 'Omega 3 Fatty Acids', 'Omega 6 Fatty Acids',\n",
    "              'Linolenic Acid', 'DHA', 'Carbohydrates using Difference Method','Roll-Up Of Component Carbohydrates', 'Other Carbohydrates/Starch',\n",
    "              'Sucrose', 'Fructose', 'Glucose', 'Sodium Excluding Contribution From Plant Water Ingredient',\n",
    "              'Sodium (Historical Value) MG', 'Sodium (Including Canada Water)', 'Sodium (Including US Water)', 'Sodium From Components', 'Sodium In Water (Canada)',\n",
    "              'Sodium In Water (US)', 'Salt', 'Dietary Fiber Not Allowable By US FDA', 'Total Dietary Fiber - US FDA',\n",
    "              'Insoluble Fiber', 'Insoluble Fiber - US FDA', 'Insoluble Fiber Not Allowable By US FDA', 'Soluble Fiber',\n",
    "              'Soluble Fiber - US FDA', 'Soluble Fiber Not Allowable By US FDA', 'Wheat Bran Fiber', 'Oat Content', 'Gluten', 'Beta Glucan', 'Whole Grains', 'Total Grains',\n",
    "              'Fruits - Solids', 'Fruits - Liquids', 'Vegetables - Solids', 'Vegetables - Liquids', 'Total Dairy Products', 'Low Fat Dairy',\n",
    "              'Nuts & Seeds', 'Legumes', 'Beta Carotene', 'Beta Carotene, Prior To Loss Factor', 'Historical Value: Beta Carotene',\n",
    "              'Historical Value: Beta Carotene, Prior To Loss Factor', 'Biotin', 'Biotin, Prior To Loss Factor', 'Calcium', \n",
    "              'Calcium, Prior To Loss Factor', 'Chloride', 'Chloride, Prior To Loss Factor', 'Total Choline','Chromium',\n",
    "              'Chromium, Prior To Loss Factor', 'Copper', 'Copper, Prior To Loss Factor', 'Folate', 'Folate, Prior To Loss Factor', \n",
    "              'Folic Acid', 'Folic Acid, Prior To Loss Factor', 'Folic Acid (Synthetic)', 'Folic Acid (Synthetic), Prior To Loss Factor',\n",
    "              'Iodine', 'Iodine, Prior To Loss Factor', 'Iron', 'Iron, Prior To Loss Factor', 'Manganese', 'Manganese, Prior To Loss Factor',\n",
    "              'Magnesium', 'Magnesium, Prior To Loss Factor', 'Molybdenum', 'Molybdenum, Prior To Process Loss', 'Niacin',\n",
    "              'Niacin Equivalents', 'Niacin, Prior To Loss Factor', 'Pantothenic Acid', 'Pantothenic Acid, Prior To Loss Factor',\n",
    "              'Phosphorus', 'Phosphorus, Prior To Loss Factor', 'Potassium', 'Riboflavin', 'Vitamin B2-Riboflavin, Prior To Loss Factor',\n",
    "              'Selenium', 'Selenium, Prior To Loss Factor', 'Thiamin', 'Vitamin B1-Thiamin, Prior To Loss Factor', 'Vitamin A', 'Vitamin A, Prior To Loss Factor', \n",
    "              'Historical Value: Vitamin A', 'Historical Value: Vitamin A, Prior To Loss Factor', 'Vitamin A (RAE)', 'Vitamin A, Prior To Loss Factor (RAE)',\n",
    "              'Vitamin B12', 'Vitamin B12, Prior To Loss Factor', 'Vitamin B6','Vitamin B6, Prior To Loss Factor', 'Vitamin C', 'Vitamin C, Prior To Loss Factor', 'Vitamin D', \n",
    "              'Vitamin D, Prior To Loss Factor', 'Historical Value: Vitamin D', 'Historical Value: Vitamin D, Prior To Loss Factor', \n",
    "              'Vitamin E', 'Vitamin E, Prior To Loss Facto', 'Historical Value: Vitamin E', 'Historical Value: Vitamin E (IU), Prior To Loss Factor', \n",
    "              'Vitamin K', 'Vitamin K, Prior To Loss Factor', 'Zinc', 'Zinc, Prior To Loss Factor', 'Acesulfame Potassium','Aspartame',\n",
    "              'Erythritol', 'Isomalt','Lactitol','Maltitol', 'Maltitol Syrup', 'Mannitol', 'Rebaudioside A', 'Saccharin', 'Sorbitol',\n",
    "              'Sorbitol Syrup', 'Sucralose', 'Sorbic Acid', 'Stearic Acid','Steviol Glycosides', 'Tagatose', 'Xylitol',\n",
    "              'Flavonoids', 'Hydrogenated Starch Hydrolysales', 'Inositol','Moisture', 'Moisture, Pre-Adjusted','Caffeine', \n",
    "              'Alcohol','Sugar Alcohol','Sugar Alcohol - Canada', 'Formula Alcohol','Benzoic Acid', 'Ash', 'Proline', \n",
    "              'Taurine', 'Threonine','Tryptophan','Valine','L-Arginine','L-Carnitine', \"Local Brand Name\", \"Local Sub-Brand Name\",\n",
    "              \"Product ID\", \"Local Brand Name\", \"Local Sub-Brand Name\", \"Global Brand Name\", \"Standard Brand Name\", \"Standard Sub-Brand Name\",\n",
    "              \"Sub-Category Name\", \"Segment Name\", \"Flavor\", \"Sub-Segment Name\", \"Volume Units\", \"Calories from Fat\", \"Calories From Saturated Fat\",\n",
    "              \"Calories - Canada\", \"Kilojoules\",\n",
    "             ]\n",
    "\n",
    "train_cleaned = train.drop(columns = cols_drops)\n",
    "test_cleaned = test.drop(columns = cols_drops)"
   ]
  },
  {
   "cell_type": "code",
   "execution_count": 4,
   "id": "9474140a",
   "metadata": {},
   "outputs": [
    {
     "data": {
      "text/plain": [
       "Year                                     0.000000\n",
       "Quarter                                  0.000000\n",
       "Country                                  0.000000\n",
       "Local Material Description               0.008855\n",
       "Product Type                             0.000000\n",
       "Category Name                           20.365922\n",
       "Standard Flavor Name                    41.275305\n",
       "Total Calories                          10.426467\n",
       "Total Fat                               11.448084\n",
       "Saturated Fat                           10.460779\n",
       "Saturated Fat per 100 kcals             10.517228\n",
       "Trans Fatty Acids                       17.384086\n",
       "Carbohydrate Total                      30.441520\n",
       "Sugars                                  29.147620\n",
       "Added Sugars                            13.447043\n",
       "Calories from Added Sugars per 355ml    13.447043\n",
       "% of Energy from Added Sugars           13.503492\n",
       "Sodium                                  10.470741\n",
       "Sodium per kcal                         10.527190\n",
       "Protein                                 11.749145\n",
       "Dietary Fiber                           17.610989\n",
       "dtype: float64"
      ]
     },
     "execution_count": 4,
     "metadata": {},
     "output_type": "execute_result"
    }
   ],
   "source": [
    "train_cleaned.isna().sum()/len(train_cleaned)*100"
   ]
  },
  {
   "cell_type": "code",
   "execution_count": 5,
   "id": "42953532",
   "metadata": {},
   "outputs": [],
   "source": [
    "train_cleaned = train_cleaned.fillna(-999)\n",
    "test_cleaned = test_cleaned.fillna(-999)\n",
    "train_cleaned[\"constant\"] = 1\n",
    "test_cleaned[\"constant\"] = 1"
   ]
  },
  {
   "cell_type": "code",
   "execution_count": 6,
   "id": "6b00bf48",
   "metadata": {},
   "outputs": [],
   "source": [
    "test_cleaned[\"Calories from Added Sugars per 355ml\"] = test_cleaned['Calories from Added Sugars per 355ml'].fillna(method =\"bfill\")"
   ]
  },
  {
   "cell_type": "code",
   "execution_count": null,
   "id": "6cf6fb15",
   "metadata": {},
   "outputs": [],
   "source": []
  },
  {
   "cell_type": "code",
   "execution_count": 7,
   "id": "17fd9ae7",
   "metadata": {},
   "outputs": [
    {
     "data": {
      "text/plain": [
       "Year                                    0\n",
       "Quarter                                 0\n",
       "Country                                 0\n",
       "Local Material Description              0\n",
       "Product Type                            0\n",
       "Category Name                           0\n",
       "Standard Flavor Name                    0\n",
       "Total Calories                          0\n",
       "Total Fat                               0\n",
       "Saturated Fat                           0\n",
       "Saturated Fat per 100 kcals             0\n",
       "Trans Fatty Acids                       0\n",
       "Carbohydrate Total                      0\n",
       "Sugars                                  0\n",
       "Added Sugars                            0\n",
       "Calories from Added Sugars per 355ml    0\n",
       "% of Energy from Added Sugars           0\n",
       "Sodium                                  0\n",
       "Sodium per kcal                         0\n",
       "Protein                                 0\n",
       "Dietary Fiber                           0\n",
       "constant                                0\n",
       "dtype: int64"
      ]
     },
     "execution_count": 7,
     "metadata": {},
     "output_type": "execute_result"
    }
   ],
   "source": [
    "test_cleaned.isna().sum()"
   ]
  },
  {
   "cell_type": "code",
   "execution_count": 8,
   "id": "9c247487",
   "metadata": {},
   "outputs": [],
   "source": [
    "train_cleaned = pd.get_dummies(train_cleaned, columns =  [\"Product Type\", \"Category Name\"], drop_first = True)\n",
    "test_cleaned = pd.get_dummies(test_cleaned, columns =  [\"Product Type\", \"Category Name\"], drop_first = True)"
   ]
  },
  {
   "cell_type": "code",
   "execution_count": 50,
   "id": "11b2186a",
   "metadata": {},
   "outputs": [],
   "source": [
    "feature_selected = [ \n",
    "       'Category Name_CONFECTIONARY', 'Category Name_COOKIES & CRACKERS',\n",
    "       'Category Name_DAIRY',\n",
    "       'Category Name_DAIRY FOODS', 'Category Name_FOODS',\n",
    "       'Category Name_GRAINS', 'Category Name_NUTRITION',\n",
    "       'Category Name_SAVOURY SNACKS',\n",
    "       'Total Calories', 'Total Fat', 'Saturated Fat',\n",
    "       'Carbohydrate Total', 'Sugars',\n",
    "       'Sodium', 'Protein', 'Dietary Fiber', 'constant','% of Energy from Added Sugars']"
   ]
  },
  {
   "cell_type": "code",
   "execution_count": 51,
   "id": "5e44e9aa",
   "metadata": {},
   "outputs": [],
   "source": [
    "x_train = train_cleaned[feature_selected]\n",
    "y_train = train_cleaned[\"Added Sugars\"]\n",
    "x_test = test_cleaned[feature_selected]\n",
    "y_test = test_cleaned[\"Added Sugars\"]"
   ]
  },
  {
   "cell_type": "code",
   "execution_count": 52,
   "id": "49f8d2af",
   "metadata": {},
   "outputs": [
    {
     "data": {
      "text/plain": [
       "Index(['Category Name_CONFECTIONARY', 'Category Name_COOKIES & CRACKERS',\n",
       "       'Category Name_DAIRY', 'Category Name_DAIRY FOODS',\n",
       "       'Category Name_FOODS', 'Category Name_GRAINS',\n",
       "       'Category Name_NUTRITION', 'Category Name_SAVOURY SNACKS',\n",
       "       'Total Calories', 'Total Fat', 'Saturated Fat', 'Carbohydrate Total',\n",
       "       'Sugars', 'Sodium', 'Protein', 'Dietary Fiber', 'constant',\n",
       "       '% of Energy from Added Sugars'],\n",
       "      dtype='object')"
      ]
     },
     "execution_count": 52,
     "metadata": {},
     "output_type": "execute_result"
    }
   ],
   "source": [
    "x_test.columns"
   ]
  },
  {
   "cell_type": "code",
   "execution_count": 53,
   "id": "7be849f5",
   "metadata": {},
   "outputs": [
    {
     "data": {
      "text/plain": [
       "Index(['Year', 'Quarter', 'Country', 'Local Material Description',\n",
       "       'Standard Flavor Name', 'Total Calories', 'Total Fat', 'Saturated Fat',\n",
       "       'Saturated Fat per 100 kcals', 'Trans Fatty Acids',\n",
       "       'Carbohydrate Total', 'Sugars', 'Added Sugars',\n",
       "       'Calories from Added Sugars per 355ml', '% of Energy from Added Sugars',\n",
       "       'Sodium', 'Sodium per kcal', 'Protein', 'Dietary Fiber', 'constant',\n",
       "       'Product Type_FOOD', 'Category Name_BEVERAGES',\n",
       "       'Category Name_CONFECTIONARY', 'Category Name_COOKIES & CRACKERS',\n",
       "       'Category Name_DAIRY', 'Category Name_DAIRY BEVERAGES',\n",
       "       'Category Name_DAIRY FOODS', 'Category Name_FOODS',\n",
       "       'Category Name_GRAINS', 'Category Name_NUTRITION',\n",
       "       'Category Name_SAVOURY SNACKS'],\n",
       "      dtype='object')"
      ]
     },
     "execution_count": 53,
     "metadata": {},
     "output_type": "execute_result"
    }
   ],
   "source": [
    "train_cleaned.columns"
   ]
  },
  {
   "cell_type": "code",
   "execution_count": 54,
   "id": "7db568db",
   "metadata": {
    "scrolled": true
   },
   "outputs": [
    {
     "data": {
      "text/plain": [
       "RandomForestRegressor(n_estimators=1000)"
      ]
     },
     "execution_count": 54,
     "metadata": {},
     "output_type": "execute_result"
    }
   ],
   "source": [
    "model = RandomForestRegressor(n_estimators = 1000)\n",
    "model.fit(x_train, y_train)"
   ]
  },
  {
   "cell_type": "code",
   "execution_count": 55,
   "id": "7ae2d56f",
   "metadata": {},
   "outputs": [
    {
     "data": {
      "text/html": [
       "<div>\n",
       "<style scoped>\n",
       "    .dataframe tbody tr th:only-of-type {\n",
       "        vertical-align: middle;\n",
       "    }\n",
       "\n",
       "    .dataframe tbody tr th {\n",
       "        vertical-align: top;\n",
       "    }\n",
       "\n",
       "    .dataframe thead th {\n",
       "        text-align: right;\n",
       "    }\n",
       "</style>\n",
       "<table border=\"1\" class=\"dataframe\">\n",
       "  <thead>\n",
       "    <tr style=\"text-align: right;\">\n",
       "      <th></th>\n",
       "      <th>predictions</th>\n",
       "      <th>actual</th>\n",
       "      <th>abs</th>\n",
       "    </tr>\n",
       "  </thead>\n",
       "  <tbody>\n",
       "    <tr>\n",
       "      <th>0</th>\n",
       "      <td>0.60</td>\n",
       "      <td>0.6</td>\n",
       "      <td>0.00</td>\n",
       "    </tr>\n",
       "    <tr>\n",
       "      <th>1</th>\n",
       "      <td>5.90</td>\n",
       "      <td>5.8</td>\n",
       "      <td>0.10</td>\n",
       "    </tr>\n",
       "    <tr>\n",
       "      <th>2</th>\n",
       "      <td>-999.00</td>\n",
       "      <td>-999.0</td>\n",
       "      <td>0.00</td>\n",
       "    </tr>\n",
       "    <tr>\n",
       "      <th>3</th>\n",
       "      <td>0.60</td>\n",
       "      <td>0.6</td>\n",
       "      <td>0.00</td>\n",
       "    </tr>\n",
       "    <tr>\n",
       "      <th>4</th>\n",
       "      <td>7.00</td>\n",
       "      <td>7.0</td>\n",
       "      <td>0.00</td>\n",
       "    </tr>\n",
       "    <tr>\n",
       "      <th>5</th>\n",
       "      <td>1.00</td>\n",
       "      <td>1.0</td>\n",
       "      <td>0.00</td>\n",
       "    </tr>\n",
       "    <tr>\n",
       "      <th>6</th>\n",
       "      <td>4.00</td>\n",
       "      <td>4.0</td>\n",
       "      <td>0.00</td>\n",
       "    </tr>\n",
       "    <tr>\n",
       "      <th>7</th>\n",
       "      <td>3.01</td>\n",
       "      <td>3.0</td>\n",
       "      <td>0.01</td>\n",
       "    </tr>\n",
       "    <tr>\n",
       "      <th>8</th>\n",
       "      <td>4.20</td>\n",
       "      <td>4.2</td>\n",
       "      <td>0.00</td>\n",
       "    </tr>\n",
       "    <tr>\n",
       "      <th>9</th>\n",
       "      <td>-999.00</td>\n",
       "      <td>-999.0</td>\n",
       "      <td>0.00</td>\n",
       "    </tr>\n",
       "  </tbody>\n",
       "</table>\n",
       "</div>"
      ],
      "text/plain": [
       "   predictions  actual   abs\n",
       "0         0.60     0.6  0.00\n",
       "1         5.90     5.8  0.10\n",
       "2      -999.00  -999.0  0.00\n",
       "3         0.60     0.6  0.00\n",
       "4         7.00     7.0  0.00\n",
       "5         1.00     1.0  0.00\n",
       "6         4.00     4.0  0.00\n",
       "7         3.01     3.0  0.01\n",
       "8         4.20     4.2  0.00\n",
       "9      -999.00  -999.0  0.00"
      ]
     },
     "execution_count": 55,
     "metadata": {},
     "output_type": "execute_result"
    }
   ],
   "source": [
    "y_pred = model.predict(x_test).round(2)\n",
    "pred_df = pd.DataFrame(y_pred, columns = [\"predictions\"])\n",
    "pred_df[\"actual\"] = y_test\n",
    "pred_df[\"abs\"] = abs(pred_df[\"predictions\"] - pred_df[\"actual\"])\n",
    "pred_df.head(10)"
   ]
  },
  {
   "cell_type": "code",
   "execution_count": 56,
   "id": "9bf3ed23",
   "metadata": {},
   "outputs": [
    {
     "name": "stdout",
     "output_type": "stream",
     "text": [
      "R-Squared Score: 0.9998629818210937\n",
      "Mean Absolute Error: 0.11015254815067325\n"
     ]
    }
   ],
   "source": [
    "r_squared = metrics.r2_score(y_test, y_pred)\n",
    "print('R-Squared Score:', r_squared)\n",
    "\n",
    "# USE SKLEARN'S MEAN_ABSOLUTE_ERROR FUNCTION TO SCORE OUR PREDICTIONS VS OUR ACTUAL\n",
    "mae = metrics.mean_absolute_error(y_test, y_pred)\n",
    "print(\"Mean Absolute Error:\", mae)"
   ]
  },
  {
   "cell_type": "code",
   "execution_count": null,
   "id": "06742063",
   "metadata": {},
   "outputs": [],
   "source": []
  }
 ],
 "metadata": {
  "kernelspec": {
   "display_name": "Python 3 (ipykernel)",
   "language": "python",
   "name": "python3"
  },
  "language_info": {
   "codemirror_mode": {
    "name": "ipython",
    "version": 3
   },
   "file_extension": ".py",
   "mimetype": "text/x-python",
   "name": "python",
   "nbconvert_exporter": "python",
   "pygments_lexer": "ipython3",
   "version": "3.9.12"
  }
 },
 "nbformat": 4,
 "nbformat_minor": 5
}
