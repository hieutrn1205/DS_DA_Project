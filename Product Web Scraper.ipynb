{
 "cells": [
  {
   "cell_type": "code",
   "execution_count": 3,
   "id": "57dbb4eb",
   "metadata": {},
   "outputs": [],
   "source": [
    "# import libraries\n",
    "\n",
    "from bs4 import BeautifulSoup\n",
    "import requests\n",
    "import time\n",
    "import datetime\n",
    "\n",
    "import smtplib\n",
    "\n",
    "import csv"
   ]
  },
  {
   "cell_type": "code",
   "execution_count": 22,
   "id": "e6314f1d",
   "metadata": {},
   "outputs": [],
   "source": [
    "def get_title_amz_product(url):\n",
    "\n",
    "    #Connect to website\n",
    "\n",
    "    #Url of the website want to scrape\n",
    "    URL = url\n",
    "    #User-agent of your computer\n",
    "    headers = {\"User-Agent\": \"Mozilla/5.0 (Windows NT 10.0; Win64; x64) AppleWebKit/537.36 (KHTML, like Gecko) Chrome/104.0.5112.84 Safari/537.36\",\"Accept-Encoding\": \"gzip, deflate, br\",\"Accept-Language\": \"en-US,en;q=0.9,vi;q=0.8\"}\n",
    "    #request on the url\n",
    "    page = requests.get(URL, headers = headers)\n",
    "    #Output = html of the url\n",
    "    soup1 = BeautifulSoup(page.content, \"html.parser\")\n",
    "    #Formatting of the soup1 \n",
    "    soup2 = BeautifulSoup(soup1.prettify(), \"html.parser\")\n",
    "    #Looking up on any tab of html and output the text of the tab\n",
    "    title = soup2.find(id = \"productTitle\").get_text()\n",
    "\n",
    "    #CREATE A CSV FILE\n",
    "\n",
    "    #Column name in csv file\n",
    "    header = [\"Title\"]\n",
    "    data=[title]\n",
    "\n",
    "    today = datetime.date.today()\n",
    "\n",
    "    with open(\"AmazonSaleDataset.csv\", 'a+', newline = '', encoding = 'UFT8') as f:\n",
    "        writer = csv.writer(f)\n",
    "        writer.writerow(header)\n",
    "        writer.writerow(data)"
   ]
  },
  {
   "cell_type": "code",
   "execution_count": null,
   "id": "04fa0763",
   "metadata": {},
   "outputs": [],
   "source": []
  }
 ],
 "metadata": {
  "kernelspec": {
   "display_name": "Python 3 (ipykernel)",
   "language": "python",
   "name": "python3"
  },
  "language_info": {
   "codemirror_mode": {
    "name": "ipython",
    "version": 3
   },
   "file_extension": ".py",
   "mimetype": "text/x-python",
   "name": "python",
   "nbconvert_exporter": "python",
   "pygments_lexer": "ipython3",
   "version": "3.9.12"
  }
 },
 "nbformat": 4,
 "nbformat_minor": 5
}
